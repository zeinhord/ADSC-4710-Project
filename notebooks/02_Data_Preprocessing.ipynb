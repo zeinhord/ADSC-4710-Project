{
  "nbformat": 4,
  "nbformat_minor": 0,
  "metadata": {
    "colab": {
      "provenance": []
    },
    "kernelspec": {
      "name": "python3",
      "display_name": "Python 3"
    },
    "language_info": {
      "name": "python"
    }
  },
  "cells": [
    {
      "cell_type": "code",
      "execution_count": null,
      "metadata": {
        "id": "5Svmxl0cNbEd"
      },
      "outputs": [],
      "source": [
        "from sklearn.preprocessing import StandardScaler, OneHotEncoder\n",
        "from sklearn.compose import ColumnTransformer\n",
        "from sklearn.pipeline import Pipeline\n",
        "from sklearn.impute import SimpleImputer\n",
        "\n",
        "# Feature engineering\n",
        "for df in [train_df, test_df]:\n",
        "    df['packets_per_sec'] = df['spkts'] / df['dur'].replace(0, np.nan)\n",
        "    df['bytes_per_sec'] = df['sbytes'] / df['dur'].replace(0, np.nan)\n",
        "    df.replace([np.inf, -np.inf], np.nan, inplace=True)\n",
        "\n",
        "label_cols = ['label', 'attack_cat', 'id', 'srcip', 'dstip']\n",
        "\n",
        "# Separate labels\n",
        "X_train = train_df.drop(columns=label_cols, errors='ignore')\n",
        "y_train = train_df['label']\n",
        "\n",
        "X_test = test_df.drop(columns=label_cols, errors='ignore')\n",
        "y_test = test_df['label']\n",
        "\n",
        "# Identify numeric and categorical columns\n",
        "numeric_features = X_train.select_dtypes(include=[np.number]).columns.tolist()\n",
        "categorical_features = X_train.select_dtypes(include=['object']).columns.tolist()\n",
        "\n",
        "# Define preprocessing pipeline (imputation -> scaling/encoding)\n",
        "preprocessor = ColumnTransformer(transformers=[\n",
        "    ('num',\n",
        "     Pipeline(steps=[\n",
        "         ('imputer', SimpleImputer(strategy='mean')),\n",
        "         ('scaler', StandardScaler())\n",
        "     ]),\n",
        "     numeric_features),\n",
        "\n",
        "    ('cat',\n",
        "     Pipeline(steps=[\n",
        "         ('imputer', SimpleImputer(strategy='most_frequent')),\n",
        "         ('onehot', OneHotEncoder(handle_unknown='ignore'))\n",
        "     ]),\n",
        "     categorical_features)\n",
        "])\n",
        "\n",
        "# Fit-transform train, transform test\n",
        "X_train_processed = preprocessor.fit_transform(X_train)\n",
        "X_test_processed = preprocessor.transform(X_test)\n",
        "\n",
        "print(\"Training shape after preprocessing:\", X_train_processed.shape)\n",
        "print(\"Testing shape after preprocessing:\", X_test_processed.shape)"
      ]
    }
  ]
}