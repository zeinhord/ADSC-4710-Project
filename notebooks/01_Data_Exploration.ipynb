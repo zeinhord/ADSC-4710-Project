import pandas as pd
import numpy as np
import matplotlib.pyplot as plt
import seaborn as sns

# Load training dataset
train_path = 'UNSW_NB15_training-set.csv'
test_path = 'UNSW_NB15_testing-set.csv'

train_df = pd.read_csv(train_path)
test_df = pd.read_csv(test_path)

# Dataset Overview
print("Dataset Shape:", df_train.shape)
print("\nDataset Columns:", df_train.columns)

# Data types and null values
print("\nData Types and Null Values:")
print(df_train.info())

# Class distribution (attack vs normal)
print("\nAttack Label Distribution:")
print(df_train['label'].value_counts())

# Visualization of Attack Label Distribution
plt.figure(figsize=(6,4))
sns.countplot(x='label', data=df_train)
plt.title('Distribution of Normal vs Attack Labels')
plt.xlabel('Label (0: Normal, 1: Attack)')
plt.ylabel('Count')
plt.show()

# Distribution of attack categories 
plt.figure(figsize=(12,5))
sns.countplot(y='attack_cat', data=df_train, order=df_train['attack_cat'].value_counts().index)
plt.title('Distribution of Attack Categories')
plt.xlabel('Count')
plt.ylabel('Attack Category')
plt.show()

# Correlation Heatmap of numerical features
numeric_features = df_train.select_dtypes(include=[np.number])

plt.figure(figsize=(15,12))
sns.heatmap(numeric_features.corr(), cmap='coolwarm', linewidths=0.1)
plt.title('Correlation Heatmap of Numeric Features')
plt.show()

