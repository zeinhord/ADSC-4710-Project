{
  "nbformat": 4,
  "nbformat_minor": 0,
  "metadata": {
    "colab": {
      "provenance": []
    },
    "kernelspec": {
      "name": "python3",
      "display_name": "Python 3"
    },
    "language_info": {
      "name": "python"
    }
  },
  "cells": [
    {
      "cell_type": "code",
      "execution_count": null,
      "metadata": {
        "id": "5Svmxl0cNbEd"
      },
      "outputs": [],
      "source": [
        "import pandas as pd\n",
        "import numpy as np\n",
        "import matplotlib.pyplot as plt\n",
        "import seaborn as sns\n",
        "\n",
        "# Load training dataset\n",
        "train_path = 'datasets/UNSW_NB15_training-set.csv'\n",
        "test_path = 'datasets/UNSW_NB15_testing-set.csv'\n",
        "\n",
        "train_df = pd.read_csv(train_path)\n",
        "test_df = pd.read_csv(test_path)\n",
        "\n",
        "# Dataset Overview\n",
        "print(\"Dataset Shape:\", train_df.shape)\n",
        "print(\"\\nDataset Columns:\", train_df.columns)\n",
        "\n",
        "# Data types and null values\n",
        "print(\"\\nData Types and Null Values:\")\n",
        "print(train_df.info())\n",
        "\n",
        "# Class distribution (attack vs normal)\n",
        "print(\"\\nAttack Label Distribution:\")\n",
        "print(train_df['label'].value_counts())\n",
        "\n",
        "# Visualization of Attack Label Distribution\n",
        "plt.figure(figsize=(6,4))\n",
        "sns.countplot(x='label', data=train_df)\n",
        "plt.title('Distribution of Normal vs Attack Labels')\n",
        "plt.xlabel('Label (0: Normal, 1: Attack)')\n",
        "plt.ylabel('Count')\n",
        "plt.show()\n",
        "\n",
        "# Distribution of attack categories\n",
        "plt.figure(figsize=(12,5))\n",
        "sns.countplot(y='attack_cat', data=train_df, order=train_df['attack_cat'].value_counts().index)\n",
        "plt.title('Distribution of Attack Categories')\n",
        "plt.xlabel('Count')\n",
        "plt.ylabel('Attack Category')\n",
        "plt.show()\n",
        "\n",
        "# Correlation Heatmap of numerical features\n",
        "numeric_features = train_df.select_dtypes(include=[np.number])\n",
        "\n",
        "plt.figure(figsize=(15,12))\n",
        "sns.heatmap(numeric_features.corr(), cmap='coolwarm', linewidths=0.1)\n",
        "plt.title('Correlation Heatmap of Numeric Features')\n",
        "plt.show()"
      ]
    }
  ]
}